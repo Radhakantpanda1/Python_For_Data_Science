{
 "cells": [
  {
   "cell_type": "markdown",
   "id": "72f4f511-ff1f-4f9b-95c1-c88d664d393b",
   "metadata": {},
   "source": [
    "# Functions In Python"
   ]
  },
  {
   "cell_type": "code",
   "execution_count": 2,
   "id": "8d42c379-d085-4d0c-82eb-c1aabd79bdf3",
   "metadata": {},
   "outputs": [
    {
     "data": {
      "text/plain": [
       "'\\nA function is a block of code which only runs when it is called.\\nIn Python a function is defined with the ‘def’ keyword.\\nFunctions can accept any number of arguments of any type.\\nFunctions can optionally return data as well. This data may also be of any type. You can return more than one value as well.\\nArguments can have default values as well.\\nWhile calling functions, the user may define arguments as keyword pairs.\\n'"
      ]
     },
     "execution_count": 2,
     "metadata": {},
     "output_type": "execute_result"
    }
   ],
   "source": [
    "\"\"\"\n",
    "A function is a block of code which only runs when it is called.\n",
    "In Python a function is defined with the ‘def’ keyword.\n",
    "Functions can accept any number of arguments of any type.\n",
    "Functions can optionally return data as well. This data may also be of any type. You can return more than one value as well.\n",
    "Arguments can have default values as well.\n",
    "While calling functions, the user may define arguments as keyword pairs.\n",
    "\"\"\"\n"
   ]
  },
  {
   "cell_type": "code",
   "execution_count": 4,
   "id": "5ff89f91-4bec-4fa3-827e-78b61c7b7060",
   "metadata": {},
   "outputs": [
    {
     "name": "stdout",
     "output_type": "stream",
     "text": [
      "Hello\n"
     ]
    }
   ],
   "source": [
    "def hello():\n",
    "    print(\"Hello\")\n",
    "hello()"
   ]
  },
  {
   "cell_type": "code",
   "execution_count": 6,
   "id": "648fd6ef-f9e9-4646-97f4-258c61d761bd",
   "metadata": {},
   "outputs": [
    {
     "name": "stdout",
     "output_type": "stream",
     "text": [
      "Hello\n"
     ]
    }
   ],
   "source": [
    "hello()"
   ]
  },
  {
   "cell_type": "code",
   "execution_count": 8,
   "id": "5d872536-539f-4e59-b965-66da7576e2bd",
   "metadata": {},
   "outputs": [
    {
     "name": "stdout",
     "output_type": "stream",
     "text": [
      "Hello\n",
      "Hello\n",
      "Hello\n",
      "Hello\n",
      "Hello\n"
     ]
    }
   ],
   "source": [
    "for i in range(5):\n",
    "    hello()"
   ]
  },
  {
   "cell_type": "code",
   "execution_count": 22,
   "id": "dbaac59f-80d9-4853-a957-26df1b66ab65",
   "metadata": {},
   "outputs": [
    {
     "name": "stdout",
     "output_type": "stream",
     "text": [
      "Hello, Radhakant\n",
      "Hello, 5\n",
      "Hello, robert\n",
      "Hello, Stark\n"
     ]
    }
   ],
   "source": [
    "def greet(name=\"robert\"):\n",
    "    print(\"Hello,\",name)\n",
    "greet(\"Radhakant\")# passing parameter \n",
    "greet(5)\n",
    "greet()\n",
    "greet(\"Stark\")"
   ]
  },
  {
   "cell_type": "markdown",
   "id": "087b9d68-1dc3-4847-aab0-250126e905cf",
   "metadata": {},
   "source": [
    "## Return Values"
   ]
  },
  {
   "cell_type": "code",
   "execution_count": 25,
   "id": "df74f26a-0dd4-49df-8cae-1e75fd945376",
   "metadata": {},
   "outputs": [
    {
     "name": "stdout",
     "output_type": "stream",
     "text": [
      "729\n"
     ]
    }
   ],
   "source": [
    "def cube(x):\n",
    "    return x**3\n",
    "print(cube(9))"
   ]
  },
  {
   "cell_type": "code",
   "execution_count": 27,
   "id": "420ee0c8-5737-4ab3-a1e4-c706d0ef9f24",
   "metadata": {},
   "outputs": [
    {
     "name": "stdout",
     "output_type": "stream",
     "text": [
      "1000\n"
     ]
    }
   ],
   "source": [
    "y=cube(10)\n",
    "print(y)"
   ]
  },
  {
   "cell_type": "markdown",
   "id": "b3dc9232-aea9-4019-b142-438d34e138e9",
   "metadata": {},
   "source": [
    "### Return as many as values you want"
   ]
  },
  {
   "cell_type": "code",
   "execution_count": 39,
   "id": "b02bf54d-3b4e-45ec-bf8d-e0c9b31c3bea",
   "metadata": {},
   "outputs": [
    {
     "name": "stdout",
     "output_type": "stream",
     "text": [
      "a- 8 b- 27 c- 64\n"
     ]
    }
   ],
   "source": [
    "def cubes():\n",
    "    return 2**3,3**3,4**3\n",
    "a,b,c=cubes()\n",
    "print(\"a-\",a , \"b-\",b ,\"c-\",c)"
   ]
  },
  {
   "cell_type": "code",
   "execution_count": 37,
   "id": "44bbce70-b073-4479-b2c1-e652f2df24e2",
   "metadata": {},
   "outputs": [
    {
     "name": "stdout",
     "output_type": "stream",
     "text": [
      "Name is K Age is 100\n"
     ]
    }
   ],
   "source": [
    "def details(name,age):\n",
    "    print(\"Name is\",name ,\"Age is\",age)\n",
    "details(age=100,name=\"K\")"
   ]
  },
  {
   "cell_type": "markdown",
   "id": "f3d57e13-a898-426f-b8c2-96d8efb53480",
   "metadata": {},
   "source": [
    "## Scope Of A Variable"
   ]
  },
  {
   "cell_type": "code",
   "execution_count": 42,
   "id": "fae4c97f-ecef-49ce-979b-34a54b075232",
   "metadata": {},
   "outputs": [
    {
     "data": {
      "text/plain": [
       "'\\nThe location where we can find a variable and also access it if required is called the scope of a variable.\\n\\nGlobal Scope - Global variables are the ones that are defined and declared outside any function and are not specified to any function. They can be used by any part of the program.\\n'"
      ]
     },
     "execution_count": 42,
     "metadata": {},
     "output_type": "execute_result"
    }
   ],
   "source": [
    "\"\"\"\n",
    "The location where we can find a variable and also access it if required is called the scope of a variable.\n",
    "Global Scope - Global variables are the ones that are defined and declared outside any function and are not specified to any function.\n",
    "They can be used by any part of the program.\n",
    "\"\"\"\n"
   ]
  },
  {
   "cell_type": "code",
   "execution_count": 56,
   "id": "96deb8d6-801c-4dee-b9ff-0e4901526eb4",
   "metadata": {},
   "outputs": [
    {
     "name": "stdout",
     "output_type": "stream",
     "text": [
      "100\n",
      "100\n"
     ]
    }
   ],
   "source": [
    "globalVariable=10 # global variable\n",
    "\n",
    "def update():\n",
    "    global globalVariable # updating global variable\n",
    "    globalVariable=100\n",
    "    print(globalVariable)\n",
    "update()\n",
    "print(globalVariable)"
   ]
  },
  {
   "cell_type": "markdown",
   "id": "48321905-32d7-47c5-9d36-e9560457e8f0",
   "metadata": {},
   "source": [
    "## Prime Number Checking"
   ]
  },
  {
   "cell_type": "code",
   "execution_count": 69,
   "id": "a16e8619-4d7c-4f92-a314-b1735f40f2cf",
   "metadata": {},
   "outputs": [],
   "source": [
    "def checkPrime(number):\n",
    "    isPrime=True\n",
    "    if number <=0:\n",
    "        print(\"Enter a valid number\")\n",
    "        return\n",
    "    elif number==1:\n",
    "        print(\"It is Composite\")\n",
    "    else:\n",
    "        for divider in range(2,number):\n",
    "            if number%divider==0:\n",
    "                isPrime=False\n",
    "                print(\"Number\",number ,\"is not a prime number\")\n",
    "                return\n",
    "        if isPrime:\n",
    "            print(\"Number\",number,\"is prime\")"
   ]
  },
  {
   "cell_type": "code",
   "execution_count": 73,
   "id": "555a7e24-48ed-4228-a4c5-bb6c780c0633",
   "metadata": {},
   "outputs": [
    {
     "name": "stdout",
     "output_type": "stream",
     "text": [
      "It is Composite\n"
     ]
    }
   ],
   "source": [
    "checkPrime(1)"
   ]
  },
  {
   "cell_type": "code",
   "execution_count": 71,
   "id": "c99b5ba6-3d00-40cc-a24d-d5192c4fa6ca",
   "metadata": {},
   "outputs": [
    {
     "name": "stdout",
     "output_type": "stream",
     "text": [
      "Number 11 is prime\n"
     ]
    }
   ],
   "source": [
    "checkPrime(11)"
   ]
  },
  {
   "cell_type": "code",
   "execution_count": 77,
   "id": "4d6c8834-7209-4fd0-a626-b9742c840b92",
   "metadata": {},
   "outputs": [
    {
     "name": "stdout",
     "output_type": "stream",
     "text": [
      "Number 1111 is not a prime number\n"
     ]
    }
   ],
   "source": [
    "checkPrime(1111)"
   ]
  },
  {
   "cell_type": "code",
   "execution_count": 79,
   "id": "bb23189a-25e7-4115-af99-63b2fa636a68",
   "metadata": {},
   "outputs": [
    {
     "name": "stdout",
     "output_type": "stream",
     "text": [
      "Number 101 is prime\n"
     ]
    }
   ],
   "source": [
    "checkPrime(101)"
   ]
  },
  {
   "cell_type": "markdown",
   "id": "0c1f6df7-d70b-4a06-9854-8daf7790d5d2",
   "metadata": {},
   "source": [
    "## Checking Prime In between 2 Numbers"
   ]
  },
  {
   "cell_type": "code",
   "execution_count": 84,
   "id": "b2c15e4c-b8f2-431d-8c23-58dea2f9c730",
   "metadata": {},
   "outputs": [
    {
     "name": "stdin",
     "output_type": "stream",
     "text": [
      "Enter the starting number- 2\n",
      "Enter the starting number- 19\n"
     ]
    },
    {
     "name": "stdout",
     "output_type": "stream",
     "text": [
      "Number 2 is prime\n",
      "Number 3 is prime\n",
      "Number 4 is not a prime number\n",
      "Number 5 is prime\n",
      "Number 6 is not a prime number\n",
      "Number 7 is prime\n",
      "Number 8 is not a prime number\n",
      "Number 9 is not a prime number\n",
      "Number 10 is not a prime number\n",
      "Number 11 is prime\n",
      "Number 12 is not a prime number\n",
      "Number 13 is prime\n",
      "Number 14 is not a prime number\n",
      "Number 15 is not a prime number\n",
      "Number 16 is not a prime number\n",
      "Number 17 is prime\n",
      "Number 18 is not a prime number\n",
      "Number 19 is prime\n"
     ]
    }
   ],
   "source": [
    "startingNumber=int(input(\"Enter the starting number-\"))\n",
    "endingNumber=int(input(\"Enter the starting number-\"))\n",
    "for i in range(startingNumber,endingNumber+1):\n",
    "    checkPrime(i)"
   ]
  },
  {
   "cell_type": "markdown",
   "id": "0ff0b259-671d-4862-830c-0a263bb67dfe",
   "metadata": {},
   "source": [
    "# Map Function"
   ]
  },
  {
   "cell_type": "code",
   "execution_count": 87,
   "id": "a47f22f3-42ab-45c2-bcf4-3512c6a8326b",
   "metadata": {},
   "outputs": [
    {
     "name": "stdout",
     "output_type": "stream",
     "text": [
      "It is Composite\n",
      "Number 2 is prime\n",
      "Number 3 is prime\n",
      "Number 5 is prime\n",
      "Number 9 is not a prime number\n",
      "Number 8 is not a prime number\n",
      "Number 7 is prime\n",
      "Number 4 is not a prime number\n",
      "Number 6 is not a prime number\n",
      "[None, None, None, None, None, None, None, None, None]\n"
     ]
    }
   ],
   "source": [
    "numlist=[1,2,3,5,9,8,7,4,6]\n",
    "newnum=list(map(checkPrime,numlist))\n",
    "print(newnum)"
   ]
  },
  {
   "cell_type": "code",
   "execution_count": 91,
   "id": "23cc1a27-d9ca-4127-a81e-f569a9c88ef2",
   "metadata": {},
   "outputs": [
    {
     "name": "stdout",
     "output_type": "stream",
     "text": [
      "[1, 4, 9, 16, 25, 36, 49, 64, 81]\n"
     ]
    }
   ],
   "source": [
    "def makeSquare(x):\n",
    "    return x**2\n",
    "initialList=[1,2,3,4,5,6,7,8,9]\n",
    "finalList=list(map(makeSquare,initialList)) # iterates over initialList and calls makeSquare for each element of initialList\n",
    "print(finalList)"
   ]
  },
  {
   "cell_type": "markdown",
   "id": "371163ef-8ea7-4ae4-8f52-b75084744592",
   "metadata": {},
   "source": [
    "# Lambda Function"
   ]
  },
  {
   "cell_type": "code",
   "execution_count": 98,
   "id": "7957b467-7b35-4b7c-bd8c-2df70a5e4506",
   "metadata": {},
   "outputs": [
    {
     "data": {
      "text/plain": [
       "'\\nA lambda function is a small anonymous function.\\nA lambda function can take any number of arguments, but can only have one expression.\\n'"
      ]
     },
     "execution_count": 98,
     "metadata": {},
     "output_type": "execute_result"
    }
   ],
   "source": [
    "\"\"\"\n",
    "A lambda function is a small anonymous function.\n",
    "A lambda function can take any number of arguments, but can only have one expression.\n",
    "\"\"\""
   ]
  },
  {
   "cell_type": "code",
   "execution_count": 102,
   "id": "11460dac-636a-4bfe-b891-e6d2661816bd",
   "metadata": {},
   "outputs": [
    {
     "name": "stdout",
     "output_type": "stream",
     "text": [
      "100000\n"
     ]
    }
   ],
   "source": [
    "XpoweredY=lambda x,y:x**y\n",
    "print(XpoweredY(10,5))"
   ]
  },
  {
   "cell_type": "code",
   "execution_count": null,
   "id": "7a33a024-b9ac-4a2e-9b87-928407b16e26",
   "metadata": {},
   "outputs": [],
   "source": []
  }
 ],
 "metadata": {
  "kernelspec": {
   "display_name": "Python 3 (ipykernel)",
   "language": "python",
   "name": "python3"
  },
  "language_info": {
   "codemirror_mode": {
    "name": "ipython",
    "version": 3
   },
   "file_extension": ".py",
   "mimetype": "text/x-python",
   "name": "python",
   "nbconvert_exporter": "python",
   "pygments_lexer": "ipython3",
   "version": "3.11.7"
  }
 },
 "nbformat": 4,
 "nbformat_minor": 5
}
