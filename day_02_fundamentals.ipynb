{
 "cells": [
  {
   "cell_type": "markdown",
   "id": "b0c8a50a-1a27-4ad9-b011-4e28eba14804",
   "metadata": {},
   "source": [
    "# Programming Fundamentals Continued"
   ]
  },
  {
   "cell_type": "code",
   "execution_count": 2,
   "id": "68a8dc2a-2f56-4cfe-b3e5-349f5cbb5a95",
   "metadata": {},
   "outputs": [
    {
     "name": "stdout",
     "output_type": "stream",
     "text": [
      "Hello ji\n"
     ]
    }
   ],
   "source": [
    "print(\"Hello\", \"ji\")"
   ]
  },
  {
   "cell_type": "code",
   "execution_count": 3,
   "id": "e70cfff9-6f73-4729-9c48-d90a5f19550a",
   "metadata": {},
   "outputs": [
    {
     "name": "stdout",
     "output_type": "stream",
     "text": [
      "Hello Guys \n",
      "I am learning python\n"
     ]
    }
   ],
   "source": [
    "print(\"Hello Guys \\nI am learning python\")# new line \\n"
   ]
  },
  {
   "cell_type": "code",
   "execution_count": 4,
   "id": "df1cab77-90ce-4e39-883c-5d9a709bdc44",
   "metadata": {},
   "outputs": [
    {
     "name": "stdout",
     "output_type": "stream",
     "text": [
      "Hello Guys 9 I am learning python2"
     ]
    }
   ],
   "source": [
    "print(\"Hello Guys \" , \" I am learning python\", sep='9',end='2')"
   ]
  },
  {
   "cell_type": "code",
   "execution_count": 5,
   "id": "d56205c3-3ffd-429a-9123-234d4c1839ce",
   "metadata": {},
   "outputs": [
    {
     "name": "stdout",
     "output_type": "stream",
     "text": [
      "Hello Guys \n",
      "I am learning python58"
     ]
    }
   ],
   "source": [
    "print(\"Hello Guys \\nI am learning python\",end='58')"
   ]
  },
  {
   "cell_type": "code",
   "execution_count": 6,
   "id": "21bcf334-9905-4583-b78e-21f3956f6c57",
   "metadata": {},
   "outputs": [
    {
     "name": "stdout",
     "output_type": "stream",
     "text": [
      "Hello Guys\n",
      "I am learning\n",
      " python58"
     ]
    }
   ],
   "source": [
    "print(\"Hello Guys\", \"I am learning\",\" python\",end='58',sep='\\n')"
   ]
  },
  {
   "cell_type": "code",
   "execution_count": 7,
   "id": "0d216876-b1a7-4ea3-afb6-0c9ae08e7cb1",
   "metadata": {},
   "outputs": [
    {
     "data": {
      "text/plain": [
       "' Multu string Comments'"
      ]
     },
     "execution_count": 7,
     "metadata": {},
     "output_type": "execute_result"
    }
   ],
   "source": [
    "\"\"\" Multu string Comments\"\"\""
   ]
  },
  {
   "cell_type": "code",
   "execution_count": 8,
   "id": "976478fa-6336-46f9-92dd-719bd4b56cd3",
   "metadata": {},
   "outputs": [],
   "source": [
    "# multi string comment is used to comment different paragraphs"
   ]
  },
  {
   "cell_type": "code",
   "execution_count": 9,
   "id": "60d6f162-1a9a-4c63-8ce9-54a1d6fea54c",
   "metadata": {},
   "outputs": [
    {
     "name": "stdout",
     "output_type": "stream",
     "text": [
      "ChatGPT is a generative artificial intelligence chatbot[2][3] developed by OpenAI and launched in 2022. It is based on the GPT-4o large language model (LLM). ChatGPT can generate human-like conversational responses, and enables users to refine and steer a conversation towards a desired length, format, style, level of detail, and language.[4] It is credited with accelerating the AI boom, which has led to ongoing rapid investment in and public attention to the field of artificial intelligence (AI).[5] Some observers have raised concern about the potential of ChatGPT and similar programs to displace human intelligence, enable plagiarism, or fuel misinformation.[6][7]\n",
      "\n",
      "By January 2023, ChatGPT had become what was then the fastest-growing consumer software application in history, gaining over 100 million users in two months[8] and contributing to the growth of OpenAI's current valuation of $86 billion.[9][10] ChatGPT's release spurred the release of competing products, including Gemini, Claude, Llama, Ernie, and Grok.[11] Microsoft launched Copilot, initially based on OpenAI's GPT-4. In May 2024, a partnership between Apple Inc. and OpenAI was announced, in which ChatGPT was integrated into the Apple Intelligence feature of Apple operating systems.[12] As of July 2024, ChatGPT's website is among the 10 most-visited websites globally.[13][14]\n"
     ]
    }
   ],
   "source": [
    "print(\"\"\"ChatGPT is a generative artificial intelligence chatbot[2][3] developed by OpenAI and launched in 2022. It is based on the GPT-4o large language model (LLM). ChatGPT can generate human-like conversational responses, and enables users to refine and steer a conversation towards a desired length, format, style, level of detail, and language.[4] It is credited with accelerating the AI boom, which has led to ongoing rapid investment in and public attention to the field of artificial intelligence (AI).[5] Some observers have raised concern about the potential of ChatGPT and similar programs to displace human intelligence, enable plagiarism, or fuel misinformation.[6][7]\n",
    "\n",
    "By January 2023, ChatGPT had become what was then the fastest-growing consumer software application in history, gaining over 100 million users in two months[8] and contributing to the growth of OpenAI's current valuation of $86 billion.[9][10] ChatGPT's release spurred the release of competing products, including Gemini, Claude, Llama, Ernie, and Grok.[11] Microsoft launched Copilot, initially based on OpenAI's GPT-4. In May 2024, a partnership between Apple Inc. and OpenAI was announced, in which ChatGPT was integrated into the Apple Intelligence feature of Apple operating systems.[12] As of July 2024, ChatGPT's website is among the 10 most-visited websites globally.[13][14]\"\"\")"
   ]
  },
  {
   "cell_type": "code",
   "execution_count": 10,
   "id": "a8f820cc-3387-468c-8813-e9e9c1f7e6b6",
   "metadata": {},
   "outputs": [
    {
     "ename": "SyntaxError",
     "evalue": "unterminated string literal (detected at line 1) (1923454706.py, line 1)",
     "output_type": "error",
     "traceback": [
      "\u001b[1;36m  Cell \u001b[1;32mIn[10], line 1\u001b[1;36m\u001b[0m\n\u001b[1;33m    print(\"ChatGPT is a generative artificial intelligence chatbot[2][3] developed by OpenAI and launched in 2022. It is based on the GPT-4o large language model (LLM). ChatGPT can generate human-like conversational responses, and enables users to refine and steer a conversation towards a desired length, format, style, level of detail, and language.[4] It is credited with accelerating the AI boom, which has led to ongoing rapid investment in and public attention to the field of artificial intelligence (AI).[5] Some observers have raised concern about the potential of ChatGPT and similar programs to displace human intelligence, enable plagiarism, or fuel misinformation.[6][7]\u001b[0m\n\u001b[1;37m          ^\u001b[0m\n\u001b[1;31mSyntaxError\u001b[0m\u001b[1;31m:\u001b[0m unterminated string literal (detected at line 1)\n"
     ]
    }
   ],
   "source": [
    "print(\"ChatGPT is a generative artificial intelligence chatbot[2][3] developed by OpenAI and launched in 2022. It is based on the GPT-4o large language model (LLM). ChatGPT can generate human-like conversational responses, and enables users to refine and steer a conversation towards a desired length, format, style, level of detail, and language.[4] It is credited with accelerating the AI boom, which has led to ongoing rapid investment in and public attention to the field of artificial intelligence (AI).[5] Some observers have raised concern about the potential of ChatGPT and similar programs to displace human intelligence, enable plagiarism, or fuel misinformation.[6][7]\n",
    "\n",
    "By January 2023, ChatGPT had become what was then the fastest-growing consumer software application in history, gaining over 100 million users in two months[8] and contributing to the growth of OpenAI's current valuation of $86 billion.[9][10] ChatGPT's release spurred the release of competing products, including Gemini, Claude, Llama, Ernie, and Grok.[11] Microsoft launched Copilot, initially based on OpenAI's GPT-4. In May 2024, a partnership between Apple Inc. and OpenAI was announced, in which ChatGPT was integrated into the Apple Intelligence feature of Apple operating systems.[12] As of July 2024, ChatGPT's website is among the 10 most-visited websites globally.[13][14]\")"
   ]
  },
  {
   "cell_type": "markdown",
   "id": "65d5e3c6-981b-43c3-b6fe-2bb244baf47e",
   "metadata": {},
   "source": [
    "# Branching"
   ]
  },
  {
   "cell_type": "code",
   "execution_count": null,
   "id": "93e18d78-775a-4788-b70a-5ca28d713762",
   "metadata": {},
   "outputs": [],
   "source": [
    "# if-else-elif statesmsents"
   ]
  },
  {
   "cell_type": "code",
   "execution_count": 31,
   "id": "5cf4461e-4bcc-4b69-8458-44469b9dd629",
   "metadata": {},
   "outputs": [
    {
     "name": "stdin",
     "output_type": "stream",
     "text": [
      "Enter your age 6\n"
     ]
    },
    {
     "name": "stdout",
     "output_type": "stream",
     "text": [
      "Not eligible\n"
     ]
    }
   ],
   "source": [
    "age=int(input(\"Enter your age\"))\n",
    "if age <18:\n",
    "    print(\"Not eligible\")\n",
    "else:\n",
    "    print(\"Eligible\")"
   ]
  },
  {
   "cell_type": "markdown",
   "id": "0a635041-8e20-4d38-ae1b-ab7666c60395",
   "metadata": {},
   "source": [
    "### It is important to keep in mind about indentation"
   ]
  },
  {
   "cell_type": "markdown",
   "id": "28c63552-c9b0-46ff-9110-7488c40f6452",
   "metadata": {},
   "source": [
    "# And Or "
   ]
  },
  {
   "cell_type": "code",
   "execution_count": 27,
   "id": "108e1b54-cbb1-427c-94f9-614000ae549c",
   "metadata": {},
   "outputs": [
    {
     "name": "stdin",
     "output_type": "stream",
     "text": [
      "Enter your age- 5\n"
     ]
    }
   ],
   "source": [
    "voterCard=True\n",
    "age=int(input(\"Enter your age-\"))\n",
    "if age>=18 and voterCard:\n",
    "        print(\"Eligible to vote\")"
   ]
  },
  {
   "cell_type": "code",
   "execution_count": 29,
   "id": "1b811b81-58c0-4fa6-b700-5485e8c8ceef",
   "metadata": {},
   "outputs": [
    {
     "name": "stdout",
     "output_type": "stream",
     "text": [
      "Eligible\n"
     ]
    }
   ],
   "source": [
    "if voterCard or aadharCard :\n",
    "    print(\"Eligible\")"
   ]
  },
  {
   "cell_type": "markdown",
   "id": "eb77eb0a-b904-4298-8660-561b38c77dcb",
   "metadata": {},
   "source": [
    "# LOOPS"
   ]
  },
  {
   "cell_type": "markdown",
   "id": "23d77ebd-4b2d-4f2a-b184-af11a1210a0c",
   "metadata": {},
   "source": [
    "## While Loop"
   ]
  },
  {
   "cell_type": "code",
   "execution_count": 33,
   "id": "a0da2d9c-0ef6-4713-a851-ad1f5c25e0d8",
   "metadata": {},
   "outputs": [
    {
     "name": "stdout",
     "output_type": "stream",
     "text": [
      "Value= 0 Value= 1 Value= 2 Value= 3 Value= 4 Value= 5 Value= 6 Value= 7 Value= 8 Value= 9 Value= 10 Value= 11 Value= 12 Value= 13 Value= 14 Value= 15 Value= 16 Value= 17 Value= 18 Value= 19 Value= 20 Value= 21 Value= 22 Value= 23 Value= 24 Value= 25 "
     ]
    }
   ],
   "source": [
    "i=0\n",
    "n=25\n",
    "while i<=n:\n",
    "    print(\"Value=\",i,end=' ')\n",
    "    i=i+1"
   ]
  },
  {
   "cell_type": "code",
   "execution_count": null,
   "id": "fb72ce87-791a-47e1-8b70-2eb76ec920ee",
   "metadata": {},
   "outputs": [],
   "source": [
    "### stair Pattern (input from user)"
   ]
  },
  {
   "cell_type": "code",
   "execution_count": 35,
   "id": "fc17eb00-02ef-49f0-a299-edc845f88f9d",
   "metadata": {},
   "outputs": [
    {
     "name": "stdin",
     "output_type": "stream",
     "text": [
      "Enter the height of stair- 9\n"
     ]
    },
    {
     "name": "stdout",
     "output_type": "stream",
     "text": [
      "*\n",
      "**\n",
      "***\n",
      "****\n",
      "*****\n",
      "******\n",
      "*******\n",
      "********\n",
      "*********\n"
     ]
    }
   ],
   "source": [
    "height=int(input(\"Enter the height of stair-\"))\n",
    "i=0\n",
    "while i<height:\n",
    "    print(\"*\"*(i+1))\n",
    "    i=i+1"
   ]
  },
  {
   "cell_type": "code",
   "execution_count": null,
   "id": "e4d01fc3-484a-4a2d-a7f2-271b116d1035",
   "metadata": {},
   "outputs": [],
   "source": [
    "# another method"
   ]
  },
  {
   "cell_type": "code",
   "execution_count": 23,
   "id": "d9d94904-1e0d-4daf-987d-62c09d85c355",
   "metadata": {},
   "outputs": [
    {
     "name": "stdin",
     "output_type": "stream",
     "text": [
      "Enter the height of stair- 5\n"
     ]
    },
    {
     "name": "stdout",
     "output_type": "stream",
     "text": [
      "*\n",
      "\n",
      "**\n",
      "\n",
      "***\n",
      "\n",
      "****\n",
      "\n",
      "*****\n",
      "\n"
     ]
    }
   ],
   "source": [
    "height=int(input(\"Enter the height of stair-\"))\n",
    "i=0\n",
    "\n",
    "while i<height:\n",
    "    j=0\n",
    "    while j< i+1:\n",
    "        print(\"*\",end=\"\")\n",
    "        j=j+1\n",
    "    i=i+1\n",
    "    print('\\n')"
   ]
  },
  {
   "cell_type": "code",
   "execution_count": 37,
   "id": "65116033-7b99-43a2-a76f-9c7a72b45937",
   "metadata": {},
   "outputs": [],
   "source": [
    "## Range Method"
   ]
  },
  {
   "cell_type": "code",
   "execution_count": 39,
   "id": "e5115d6f-8e7a-40b2-978f-b7ca7eba705c",
   "metadata": {},
   "outputs": [],
   "source": [
    "# range(n) --> 0 to n-1"
   ]
  },
  {
   "cell_type": "markdown",
   "id": "53657613-0fcd-41ae-b46b-ddf89e97d2e0",
   "metadata": {},
   "source": [
    "# For Loop"
   ]
  },
  {
   "cell_type": "code",
   "execution_count": 60,
   "id": "a8b74cc9-b42e-4adb-8542-010c6c216508",
   "metadata": {},
   "outputs": [
    {
     "name": "stdout",
     "output_type": "stream",
     "text": [
      "0 1 2 3 4 5 6 7 8 9 "
     ]
    }
   ],
   "source": [
    "for i in range(0,10):\n",
    "    print(i,end=\" \") # iterates over values not indexes"
   ]
  },
  {
   "cell_type": "code",
   "execution_count": 46,
   "id": "d188abb7-1ff8-4910-a4bc-6b77d6456c2b",
   "metadata": {},
   "outputs": [
    {
     "name": "stdout",
     "output_type": "stream",
     "text": [
      "25 26 27 28 29 30 31 32 33 34 35 36 37 38 39 40 41 42 43 44 45 46 47 48 49 50 51 52 53 54 55 56 57 58 59 60 61 62 63 64 65 66 67 68 "
     ]
    }
   ],
   "source": [
    "for i in range(25,69):\n",
    "    print(i,end=\" \")"
   ]
  },
  {
   "cell_type": "code",
   "execution_count": 48,
   "id": "4430eaae-fc1f-4e87-91bf-caaf121a5a1d",
   "metadata": {},
   "outputs": [
    {
     "name": "stdout",
     "output_type": "stream",
     "text": [
      "25 27 29 31 33 35 37 39 41 43 45 47 49 51 53 55 57 59 61 63 65 67 "
     ]
    }
   ],
   "source": [
    "for i in range(25,69,2):\n",
    "    print(i,end=\" \")"
   ]
  },
  {
   "cell_type": "code",
   "execution_count": 52,
   "id": "f90e9f17-8427-4c9b-ae7d-62fae0e71608",
   "metadata": {},
   "outputs": [
    {
     "data": {
      "text/plain": [
       "[10, 9, 8, 7, 6, 5, 4, 3, 2]"
      ]
     },
     "execution_count": 52,
     "metadata": {},
     "output_type": "execute_result"
    }
   ],
   "source": [
    "list(range(10,1,-1)) # list"
   ]
  },
  {
   "cell_type": "code",
   "execution_count": 58,
   "id": "622879fd-b136-4c86-b975-fb45745901ad",
   "metadata": {},
   "outputs": [
    {
     "data": {
      "text/plain": [
       "[1, 3, 5, 7, 9]"
      ]
     },
     "execution_count": 58,
     "metadata": {},
     "output_type": "execute_result"
    }
   ],
   "source": [
    "# odd numbers\n",
    "list(range(1,10,2))"
   ]
  },
  {
   "cell_type": "code",
   "execution_count": 62,
   "id": "b20616ff-c685-4b91-a456-c9ec360979a6",
   "metadata": {},
   "outputs": [
    {
     "name": "stdout",
     "output_type": "stream",
     "text": [
      "1\n",
      "4\n",
      "27\n",
      "256\n",
      "3125\n",
      "46656\n",
      "823543\n",
      "16777216\n",
      "387420489\n",
      "10000000000\n"
     ]
    }
   ],
   "source": [
    "for i in range(1,11):\n",
    "    print(i**i)"
   ]
  },
  {
   "cell_type": "code",
   "execution_count": 64,
   "id": "ccc6aabf-2aa3-4a45-8773-213b5713d5d0",
   "metadata": {},
   "outputs": [
    {
     "ename": "TypeError",
     "evalue": "'float' object cannot be interpreted as an integer",
     "output_type": "error",
     "traceback": [
      "\u001b[1;31m---------------------------------------------------------------------------\u001b[0m",
      "\u001b[1;31mTypeError\u001b[0m                                 Traceback (most recent call last)",
      "Cell \u001b[1;32mIn[64], line 1\u001b[0m\n\u001b[1;32m----> 1\u001b[0m \u001b[38;5;28;01mfor\u001b[39;00m i \u001b[38;5;129;01min\u001b[39;00m \u001b[38;5;28mrange\u001b[39m(\u001b[38;5;241m0\u001b[39m,\u001b[38;5;241m0.9\u001b[39m,\u001b[38;5;241m0.1\u001b[39m):\n\u001b[0;32m      2\u001b[0m     \u001b[38;5;28mprint\u001b[39m(i\u001b[38;5;241m*\u001b[39m\u001b[38;5;241m*\u001b[39mi)\n",
      "\u001b[1;31mTypeError\u001b[0m: 'float' object cannot be interpreted as an integer"
     ]
    }
   ],
   "source": [
    "for i in range(0,0.9,0.1):\n",
    "    print(i**i)"
   ]
  },
  {
   "cell_type": "markdown",
   "id": "02cacdb0-f990-4b05-88b5-c6c0d7d1d9e6",
   "metadata": {},
   "source": [
    "## Sum Of Digits"
   ]
  },
  {
   "cell_type": "code",
   "execution_count": 71,
   "id": "75225b7a-f17b-44b5-b7e4-af9a8e3781f4",
   "metadata": {},
   "outputs": [
    {
     "name": "stdin",
     "output_type": "stream",
     "text": [
      "Enter the number- 123456789\n"
     ]
    },
    {
     "name": "stdout",
     "output_type": "stream",
     "text": [
      "Sum = 45\n"
     ]
    }
   ],
   "source": [
    "number =int(input(\"Enter the number-\"))\n",
    "k=number\n",
    "sum=0\n",
    "while k>0:\n",
    "    dig=k%10\n",
    "    sum=sum+dig\n",
    "    k=k//10\n",
    "\n",
    "print(\"Sum =\",sum)\n",
    "    "
   ]
  },
  {
   "cell_type": "markdown",
   "id": "f44f9c8d-647c-489d-8e2f-845f8a2d3f9a",
   "metadata": {},
   "source": [
    "### Pattern Problem"
   ]
  },
  {
   "cell_type": "code",
   "execution_count": 82,
   "id": "d78b91ef-bd5b-4621-b494-cb2c13a34aab",
   "metadata": {},
   "outputs": [
    {
     "name": "stdin",
     "output_type": "stream",
     "text": [
      "Enter the number- 10\n"
     ]
    },
    {
     "name": "stdout",
     "output_type": "stream",
     "text": [
      "1 2 3 4 5 6 7 8 9 10 \n",
      "1 2 3 4 5 6 7 8 9 \n",
      "1 2 3 4 5 6 7 8 \n",
      "1 2 3 4 5 6 7 \n",
      "1 2 3 4 5 6 \n",
      "1 2 3 4 5 \n",
      "1 2 3 4 \n",
      "1 2 3 \n",
      "1 2 \n",
      "1 \n"
     ]
    }
   ],
   "source": [
    "number =int(input(\"Enter the number-\"))\n",
    "for i in range(1,number+1):\n",
    "    for j in range(1,number-i+2):\n",
    "        print(j,end=' ')\n",
    "    print()\n",
    "        "
   ]
  },
  {
   "cell_type": "markdown",
   "id": "605b1c01-9ed1-48e4-9ef0-b931a859886e",
   "metadata": {},
   "source": [
    "### Pattern Problem"
   ]
  },
  {
   "cell_type": "code",
   "execution_count": 104,
   "id": "ae65874a-0dab-4c31-91ee-0adc80a4ab5e",
   "metadata": {},
   "outputs": [
    {
     "data": {
      "text/plain": [
       "'\\n0 0 0 1 0 0 0\\n0 0 2 3 2 0 0\\n0 3 4 5 4 3 0\\n4 5 6 7 6 5 4\\n'"
      ]
     },
     "execution_count": 104,
     "metadata": {},
     "output_type": "execute_result"
    }
   ],
   "source": [
    "\"\"\"\n",
    "0 0 0 1 0 0 0\n",
    "0 0 2 3 2 0 0\n",
    "0 3 4 5 4 3 0\n",
    "4 5 6 7 6 5 4\n",
    "\"\"\""
   ]
  },
  {
   "cell_type": "code",
   "execution_count": 110,
   "id": "8401870c-9f62-4cce-9d80-88c9b8799fd0",
   "metadata": {},
   "outputs": [
    {
     "name": "stdin",
     "output_type": "stream",
     "text": [
      "Enter the value of n- 4\n"
     ]
    },
    {
     "name": "stdout",
     "output_type": "stream",
     "text": [
      "0001000\n",
      "0023200\n",
      "0345430\n",
      "4567654\n"
     ]
    }
   ],
   "source": [
    "n=int(input(\"Enter the value of n-\"))\n",
    "for i in range(1,n+1):\n",
    "    print(\"0\"*(n-i),end='')\n",
    "    for j in range(i,2*i):\n",
    "        print(j,end='')\n",
    "    for k in range(2*i-2,i-1,-1):\n",
    "        print(k,end=\"\")\n",
    "    print(\"0\"*(n-i),end=\"\")\n",
    "    print()\n",
    "        "
   ]
  },
  {
   "cell_type": "code",
   "execution_count": null,
   "id": "58dbc417-02ff-4ad4-b4c7-2ca65e45fc06",
   "metadata": {},
   "outputs": [],
   "source": []
  }
 ],
 "metadata": {
  "kernelspec": {
   "display_name": "Python 3 (ipykernel)",
   "language": "python",
   "name": "python3"
  },
  "language_info": {
   "codemirror_mode": {
    "name": "ipython",
    "version": 3
   },
   "file_extension": ".py",
   "mimetype": "text/x-python",
   "name": "python",
   "nbconvert_exporter": "python",
   "pygments_lexer": "ipython3",
   "version": "3.11.7"
  }
 },
 "nbformat": 4,
 "nbformat_minor": 5
}
