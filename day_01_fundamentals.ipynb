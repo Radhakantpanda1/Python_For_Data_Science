{
 "cells": [
  {
   "cell_type": "markdown",
   "id": "5fd468c0-b08e-4d6d-b5f4-1442daf33e5c",
   "metadata": {},
   "source": [
    "### Fundamentals Of Programming"
   ]
  },
  {
   "cell_type": "code",
   "execution_count": 3,
   "id": "0bf4bc27-e4a3-45e6-93e5-0131e5b05381",
   "metadata": {},
   "outputs": [
    {
     "name": "stdout",
     "output_type": "stream",
     "text": [
      "I am Learning Python\n"
     ]
    }
   ],
   "source": [
    "print(\"I am Learning Python\")"
   ]
  },
  {
   "cell_type": "code",
   "execution_count": 8,
   "id": "6478dd44-956d-43be-bed8-1e1237da459e",
   "metadata": {},
   "outputs": [
    {
     "name": "stdout",
     "output_type": "stream",
     "text": [
      "Hello\n"
     ]
    }
   ],
   "source": [
    "print(\"Hello\")"
   ]
  },
  {
   "cell_type": "markdown",
   "id": "6d72335e-22ad-4f6a-b67c-356a279f1e99",
   "metadata": {},
   "source": [
    "### SIMPLE INTERSET CALCULATION"
   ]
  },
  {
   "cell_type": "code",
   "execution_count": 11,
   "id": "8ca1d1da-1259-4f36-b9a9-3cac1fa7813f",
   "metadata": {},
   "outputs": [
    {
     "name": "stdout",
     "output_type": "stream",
     "text": [
      "45.0\n"
     ]
    }
   ],
   "source": [
    "P=25\n",
    "T=12\n",
    "R=15\n",
    "SI=P*R*T/100\n",
    "print(SI)"
   ]
  },
  {
   "cell_type": "markdown",
   "id": "37b71e2d-8325-4dbd-8fd7-dda880217a0b",
   "metadata": {},
   "source": [
    "### TAKING USER INPUT"
   ]
  },
  {
   "cell_type": "code",
   "execution_count": 24,
   "id": "db0be308-208c-44b4-aa4d-dc2faec5d35b",
   "metadata": {},
   "outputs": [
    {
     "name": "stdin",
     "output_type": "stream",
     "text": [
      "Enter your age- 25\n"
     ]
    },
    {
     "name": "stdout",
     "output_type": "stream",
     "text": [
      "Your age is - 25\n"
     ]
    }
   ],
   "source": [
    "age_of_user=int(input(\"Enter your age-\")) # input is converted to integer\n",
    "print(\"Your age is -\",age_of_user)"
   ]
  },
  {
   "cell_type": "code",
   "execution_count": 28,
   "id": "311cc045-ed3f-4b7d-8143-5e2d1772c330",
   "metadata": {},
   "outputs": [
    {
     "name": "stdin",
     "output_type": "stream",
     "text": [
      "Enter input b\n"
     ]
    },
    {
     "name": "stdout",
     "output_type": "stream",
     "text": [
      "<class 'str'>\n"
     ]
    }
   ],
   "source": [
    "name=input(\"Enter input\")\n",
    "print(type(name))"
   ]
  },
  {
   "cell_type": "code",
   "execution_count": 34,
   "id": "aa82e256-b1ed-4ebb-897b-b3fbaaf35117",
   "metadata": {},
   "outputs": [
    {
     "name": "stdout",
     "output_type": "stream",
     "text": [
      " hello guy's\n"
     ]
    }
   ],
   "source": [
    "print(' hello guy\\'s')"
   ]
  },
  {
   "cell_type": "code",
   "execution_count": 36,
   "id": "fe4b1e3a-8514-4a61-a803-7a0f5713a18a",
   "metadata": {},
   "outputs": [],
   "source": [
    "# comments are lines of codes or information which gets ignored by the compiler/interpreter"
   ]
  },
  {
   "cell_type": "markdown",
   "id": "035f33f1-90a4-4b83-a642-cf2bec4099f0",
   "metadata": {},
   "source": [
    "### DATA TYPES"
   ]
  },
  {
   "cell_type": "markdown",
   "id": "d53f79d3-f4f3-45a4-ad09-cd3dd254d094",
   "metadata": {},
   "source": [
    "# integer float string boolean none"
   ]
  },
  {
   "cell_type": "code",
   "execution_count": 40,
   "id": "6899266e-86ce-4aa8-af57-fa1eed08b46b",
   "metadata": {},
   "outputs": [
    {
     "name": "stdout",
     "output_type": "stream",
     "text": [
      "<class 'int'>\n"
     ]
    }
   ],
   "source": [
    "a=100\n",
    "print(type(a))# class is integer"
   ]
  },
  {
   "cell_type": "code",
   "execution_count": 42,
   "id": "86ac77d3-90f8-4ee5-b214-e271722f2934",
   "metadata": {},
   "outputs": [
    {
     "name": "stdout",
     "output_type": "stream",
     "text": [
      "<class 'float'>\n"
     ]
    }
   ],
   "source": [
    "a=12.369\n",
    "print(type(a)) # float class <class 'float'>"
   ]
  },
  {
   "cell_type": "code",
   "execution_count": 44,
   "id": "948ed10f-107d-4447-b351-c292eacff68b",
   "metadata": {},
   "outputs": [],
   "source": [
    "# type() inbuilt function used to know the data type or type of data"
   ]
  },
  {
   "cell_type": "code",
   "execution_count": 48,
   "id": "17e91d6b-80ab-46da-8988-4ae2f0045359",
   "metadata": {},
   "outputs": [
    {
     "name": "stdout",
     "output_type": "stream",
     "text": [
      "<class 'str'>\n"
     ]
    }
   ],
   "source": [
    "c='a'\n",
    "print(type(c)) # it is string not a character <class 'str'>"
   ]
  },
  {
   "cell_type": "code",
   "execution_count": 52,
   "id": "7def4914-bef5-4afd-a041-9740b5be6128",
   "metadata": {},
   "outputs": [
    {
     "name": "stdout",
     "output_type": "stream",
     "text": [
      "<class 'bool'>\n",
      "<class 'bool'>\n"
     ]
    }
   ],
   "source": [
    "bl=True\n",
    "print(type(bl))#<class 'bool'>\n",
    "bl2=False\n",
    "print(type(bl2))"
   ]
  },
  {
   "cell_type": "code",
   "execution_count": 59,
   "id": "1c2f3588-0285-4057-803e-5bdf0b65c868",
   "metadata": {},
   "outputs": [
    {
     "name": "stdout",
     "output_type": "stream",
     "text": [
      "<class 'NoneType'>\n"
     ]
    }
   ],
   "source": [
    "a=None\n",
    "print(type(a))# <class 'NoneType'>"
   ]
  },
  {
   "cell_type": "code",
   "execution_count": 61,
   "id": "047e6f87-6943-42c3-b2e8-382a6a9745da",
   "metadata": {},
   "outputs": [],
   "source": [
    "# python is case sensitive"
   ]
  },
  {
   "cell_type": "code",
   "execution_count": 63,
   "id": "9859f4d4-63a9-49d9-a4bf-824cfd6f7151",
   "metadata": {},
   "outputs": [],
   "source": [
    "# variables are used to store values"
   ]
  },
  {
   "cell_type": "markdown",
   "id": "8f1802c8-0c35-48d7-9f3e-64baf1a22969",
   "metadata": {},
   "source": [
    "# Conversion Of Data Types / Typecasting"
   ]
  },
  {
   "cell_type": "code",
   "execution_count": 68,
   "id": "a959d2e1-efa0-4752-817f-934cc4883f76",
   "metadata": {},
   "outputs": [
    {
     "name": "stdout",
     "output_type": "stream",
     "text": [
      "2\n"
     ]
    }
   ],
   "source": [
    "a=2.369\n",
    "print(int(a)) # float to integer"
   ]
  },
  {
   "cell_type": "code",
   "execution_count": 70,
   "id": "7085e8a1-cc58-49d0-9642-8f99ed5ec08e",
   "metadata": {},
   "outputs": [
    {
     "name": "stdout",
     "output_type": "stream",
     "text": [
      "259.0\n"
     ]
    }
   ],
   "source": [
    "intval=259\n",
    "print(float(intval)) # integer to float"
   ]
  },
  {
   "cell_type": "code",
   "execution_count": 74,
   "id": "1c8d439a-b659-4c91-8f18-dc0428322c4c",
   "metadata": {},
   "outputs": [
    {
     "name": "stdout",
     "output_type": "stream",
     "text": [
      "<class 'str'>\n"
     ]
    }
   ],
   "source": [
    "a=125\n",
    "print(type(str(a)))"
   ]
  },
  {
   "cell_type": "markdown",
   "id": "a864c9f3-7c2e-4e59-a945-71a003b31862",
   "metadata": {},
   "source": [
    "### String to Int"
   ]
  },
  {
   "cell_type": "code",
   "execution_count": 109,
   "id": "922da2e7-19d8-4a09-99b2-bfebf6534bc4",
   "metadata": {},
   "outputs": [
    {
     "name": "stdout",
     "output_type": "stream",
     "text": [
      "<class 'int'>\n"
     ]
    }
   ],
   "source": [
    "strr='1259'\n",
    "print(type(int(strr))) #<class 'int'>"
   ]
  },
  {
   "cell_type": "code",
   "execution_count": 92,
   "id": "61514907-3267-45db-97a6-03e63f958f71",
   "metadata": {},
   "outputs": [
    {
     "name": "stdout",
     "output_type": "stream",
     "text": [
      "111222\n"
     ]
    }
   ],
   "source": [
    "strr='111222'\n",
    "print(int(strr))"
   ]
  },
  {
   "cell_type": "markdown",
   "id": "7e4b13e1-c01c-454c-8850-3859efaff442",
   "metadata": {},
   "source": [
    "# Float to str and vice versa"
   ]
  },
  {
   "cell_type": "code",
   "execution_count": 113,
   "id": "104f936f-a9e0-4a3f-9a53-cf955bcd63c2",
   "metadata": {},
   "outputs": [
    {
     "ename": "TypeError",
     "evalue": "'str' object is not callable",
     "output_type": "error",
     "traceback": [
      "\u001b[1;31m---------------------------------------------------------------------------\u001b[0m",
      "\u001b[1;31mTypeError\u001b[0m                                 Traceback (most recent call last)",
      "Cell \u001b[1;32mIn[113], line 2\u001b[0m\n\u001b[0;32m      1\u001b[0m val\u001b[38;5;241m=\u001b[39m\u001b[38;5;241m12.3666\u001b[39m\n\u001b[1;32m----> 2\u001b[0m \u001b[38;5;28mprint\u001b[39m(\u001b[38;5;28mstr\u001b[39m(val))\n",
      "\u001b[1;31mTypeError\u001b[0m: 'str' object is not callable"
     ]
    }
   ],
   "source": [
    "val=12.3666\n",
    "print(str(val))"
   ]
  },
  {
   "cell_type": "code",
   "execution_count": 111,
   "id": "71372300-9923-4af5-a71a-db1180ad6fd7",
   "metadata": {},
   "outputs": [
    {
     "ename": "ValueError",
     "evalue": "invalid literal for int() with base 10: '12.369'",
     "output_type": "error",
     "traceback": [
      "\u001b[1;31m---------------------------------------------------------------------------\u001b[0m",
      "\u001b[1;31mValueError\u001b[0m                                Traceback (most recent call last)",
      "Cell \u001b[1;32mIn[111], line 2\u001b[0m\n\u001b[0;32m      1\u001b[0m string_val\u001b[38;5;241m=\u001b[39m\u001b[38;5;124m'\u001b[39m\u001b[38;5;124m12.369\u001b[39m\u001b[38;5;124m'\u001b[39m\n\u001b[1;32m----> 2\u001b[0m \u001b[38;5;28mprint\u001b[39m(\u001b[38;5;28mint\u001b[39m(string_val))\n",
      "\u001b[1;31mValueError\u001b[0m: invalid literal for int() with base 10: '12.369'"
     ]
    }
   ],
   "source": [
    "string_val='12.369'\n",
    "print(int(string_val)) # error"
   ]
  },
  {
   "cell_type": "code",
   "execution_count": 119,
   "id": "2f0d637b-a939-4b3f-93f9-d2052f985988",
   "metadata": {},
   "outputs": [
    {
     "name": "stdout",
     "output_type": "stream",
     "text": [
      "12\n"
     ]
    }
   ],
   "source": [
    "string_val='12.369'\n",
    "print(int(float(string_val)))"
   ]
  },
  {
   "cell_type": "markdown",
   "id": "34dfa82f-6b09-425f-bbc9-6fa0091d7e01",
   "metadata": {},
   "source": [
    "# Range Of Numbers"
   ]
  },
  {
   "cell_type": "markdown",
   "id": "93ffb24b-bd58-49f5-8902-4c90b511968e",
   "metadata": {},
   "source": [
    "### No limitation in python , limitation may be due to your machine not because of python"
   ]
  },
  {
   "cell_type": "markdown",
   "id": "5ce70d0d-1799-4448-9457-7437b42962c6",
   "metadata": {},
   "source": [
    "### No double is needed"
   ]
  },
  {
   "cell_type": "markdown",
   "id": "a51317b3-3685-4fd5-bfaf-98bc6e9d2276",
   "metadata": {},
   "source": [
    "# Operators in Python"
   ]
  },
  {
   "cell_type": "code",
   "execution_count": 127,
   "id": "c540088d-6239-4be0-93b2-601693ebe928",
   "metadata": {},
   "outputs": [],
   "source": [
    "#  + - * / ** %\n"
   ]
  },
  {
   "cell_type": "code",
   "execution_count": 129,
   "id": "dc20cee2-7b5c-44e2-ab70-15efdf16caa8",
   "metadata": {},
   "outputs": [
    {
     "name": "stdout",
     "output_type": "stream",
     "text": [
      "10000000000\n"
     ]
    }
   ],
   "source": [
    "print(10**10) # power operator"
   ]
  },
  {
   "cell_type": "code",
   "execution_count": 137,
   "id": "e34f7d18-561f-486e-a380-79b6c0c4e79d",
   "metadata": {},
   "outputs": [
    {
     "name": "stdout",
     "output_type": "stream",
     "text": [
      "1\n"
     ]
    }
   ],
   "source": [
    "# % modulo operator gives remainder\n",
    "print(5%2)"
   ]
  },
  {
   "cell_type": "code",
   "execution_count": 133,
   "id": "a0be634d-0ed8-48fe-8d70-273a632578ef",
   "metadata": {},
   "outputs": [
    {
     "name": "stdout",
     "output_type": "stream",
     "text": [
      "2\n"
     ]
    }
   ],
   "source": [
    "# // floor division\n",
    "print(5//2)"
   ]
  },
  {
   "cell_type": "code",
   "execution_count": 135,
   "id": "df9cb03a-b276-4e1b-9779-66add7e803b7",
   "metadata": {},
   "outputs": [
    {
     "name": "stdout",
     "output_type": "stream",
     "text": [
      "2.5\n"
     ]
    }
   ],
   "source": [
    "print(5/2)"
   ]
  },
  {
   "cell_type": "code",
   "execution_count": 141,
   "id": "bfa52bb5-8f5f-4434-9b2a-177f923d0965",
   "metadata": {},
   "outputs": [
    {
     "name": "stdout",
     "output_type": "stream",
     "text": [
      "2.0\n"
     ]
    }
   ],
   "source": [
    "print(4**1/2) # similar to root "
   ]
  },
  {
   "cell_type": "markdown",
   "id": "f44fc4f8-9952-413e-81f4-456d708f7a93",
   "metadata": {},
   "source": [
    "# resources for python"
   ]
  },
  {
   "cell_type": "markdown",
   "id": "f9aab665-ef61-4def-ab58-9588c701cba6",
   "metadata": {},
   "source": [
    "### WTF PYTHON"
   ]
  },
  {
   "cell_type": "code",
   "execution_count": null,
   "id": "b114b051-bd61-48d5-b77e-5ff5824c0682",
   "metadata": {},
   "outputs": [],
   "source": []
  }
 ],
 "metadata": {
  "kernelspec": {
   "display_name": "Python 3 (ipykernel)",
   "language": "python",
   "name": "python3"
  },
  "language_info": {
   "codemirror_mode": {
    "name": "ipython",
    "version": 3
   },
   "file_extension": ".py",
   "mimetype": "text/x-python",
   "name": "python",
   "nbconvert_exporter": "python",
   "pygments_lexer": "ipython3",
   "version": "3.11.7"
  }
 },
 "nbformat": 4,
 "nbformat_minor": 5
}
