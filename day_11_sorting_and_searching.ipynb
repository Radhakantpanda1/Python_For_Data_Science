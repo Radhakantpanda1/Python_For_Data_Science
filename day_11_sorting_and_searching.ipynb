{
 "cells": [
  {
   "cell_type": "markdown",
   "id": "b82dc5a7-1424-4b07-ab2f-209fd73458a2",
   "metadata": {},
   "source": [
    "# Sorting And Searching"
   ]
  },
  {
   "cell_type": "code",
   "execution_count": 2,
   "id": "7617bb75-5c26-4252-9c91-5df55089c186",
   "metadata": {},
   "outputs": [],
   "source": [
    "a=[1,3,5,9,8,7,4,5]"
   ]
  },
  {
   "cell_type": "markdown",
   "id": "1bcc1334-bc2a-4461-b271-3a441bb08dc3",
   "metadata": {},
   "source": [
    "## Inbuilt Functions"
   ]
  },
  {
   "cell_type": "code",
   "execution_count": 10,
   "id": "4f4d452c-960e-4bae-b462-3b2337eaeb61",
   "metadata": {},
   "outputs": [
    {
     "name": "stdout",
     "output_type": "stream",
     "text": [
      "[1, 3, 4, 5, 5, 7, 8, 9]\n"
     ]
    }
   ],
   "source": [
    "a.sort()# original data sorted\n",
    "print(a)"
   ]
  },
  {
   "cell_type": "code",
   "execution_count": 12,
   "id": "f3ad2884-45f5-4b75-b04c-252760c68ccd",
   "metadata": {},
   "outputs": [
    {
     "name": "stdout",
     "output_type": "stream",
     "text": [
      "[9, 8, 7, 5, 5, 4, 3, 1]\n"
     ]
    }
   ],
   "source": [
    "a.sort(reverse=True)# original data sorted\n",
    "print(a)"
   ]
  },
  {
   "cell_type": "code",
   "execution_count": 16,
   "id": "6e1ca8b6-55dd-49a7-9f85-7c3dc7f403db",
   "metadata": {},
   "outputs": [
    {
     "name": "stdout",
     "output_type": "stream",
     "text": [
      "[2, 2, 4, 5, 6, 6, 8, 9]\n"
     ]
    }
   ],
   "source": [
    "p=[2,6,8,9,4,2,5,6]\n",
    "b=sorted(p)# returns a sorted array doesn't effect the original one\n",
    "print(b)"
   ]
  },
  {
   "cell_type": "code",
   "execution_count": 26,
   "id": "cb984b44-df5f-4c4d-ab71-37ba627576a1",
   "metadata": {},
   "outputs": [
    {
     "name": "stdout",
     "output_type": "stream",
     "text": [
      "[98, 15, 9, 8, 6, 6, 5, 4, 2, 2]\n"
     ]
    }
   ],
   "source": [
    "p=[2,6,8,9,4,2,5,15,98,6]\n",
    "b=sorted(p,reverse=True)# returns a sorted array doesn't effect the original one\n",
    "print(b)"
   ]
  },
  {
   "cell_type": "markdown",
   "id": "8f7a6176-d04b-4a4f-b625-cd3f68d597eb",
   "metadata": {},
   "source": [
    "### TC of above sorting algoritm is O(nlogn)"
   ]
  },
  {
   "cell_type": "markdown",
   "id": "748f4f60-e185-4fdd-8406-855ff61e4616",
   "metadata": {},
   "source": [
    "## Bubble Sort"
   ]
  },
  {
   "cell_type": "code",
   "execution_count": 53,
   "id": "7dc0bf75-304c-4157-bde0-319ed57512c4",
   "metadata": {},
   "outputs": [
    {
     "name": "stdout",
     "output_type": "stream",
     "text": [
      "[1, 2, 3, 4, 5, 6, 8, 9, 10, 10]\n"
     ]
    }
   ],
   "source": [
    "def bubbleSort(arr):\n",
    "    isSwapNeeded=False\n",
    "    for i in range(len(arr)):\n",
    "        for j in range(0,len(arr)-1):\n",
    "            if arr[j]>arr[j+1]:\n",
    "                isSwapNeeded=True\n",
    "                arr[j],arr[j+1]=arr[j+1],arr[j]\n",
    "        if isSwapNeeded==False:\n",
    "            print(\"already sordted\")\n",
    "            return arr\n",
    "\n",
    "    \n",
    "    return arr\n",
    "p=[1,2,3,4,5,6,10,8,9,10]\n",
    "q=bubbleSort(p)\n",
    "print(q)"
   ]
  },
  {
   "cell_type": "markdown",
   "id": "ab504490-c162-44ae-96fa-9ee12404fe73",
   "metadata": {},
   "source": [
    "## TIME COMPLEXITY IS N<sup>2<sup>"
   ]
  },
  {
   "cell_type": "markdown",
   "id": "8855cf43-1ee5-4357-8639-1bb657696da2",
   "metadata": {},
   "source": [
    "# Searching"
   ]
  },
  {
   "cell_type": "markdown",
   "id": "299828a7-9345-4286-a14a-bf48737e22d8",
   "metadata": {},
   "source": [
    "### Linear Search"
   ]
  },
  {
   "cell_type": "code",
   "execution_count": 70,
   "id": "1e0ffa6d-04a4-4fec-9a1b-f15fab2a5f34",
   "metadata": {},
   "outputs": [
    {
     "name": "stdout",
     "output_type": "stream",
     "text": [
      "Element present at index 8\n"
     ]
    }
   ],
   "source": [
    "def linearSearch(arr,target):\n",
    "    for i in range(0,len(arr)):\n",
    "        if arr[i]==target:\n",
    "            return i\n",
    "\n",
    "    return -1\n",
    "res=linearSearch(p,10)\n",
    "if res==-1:\n",
    "    print(\"Element Not found\")\n",
    "else :\n",
    "    print(\"Element present at index\",res)"
   ]
  },
  {
   "cell_type": "markdown",
   "id": "283d167a-33d2-4bc8-8cd7-bbd7eec45dd2",
   "metadata": {},
   "source": [
    "## TIME COMPLEXITY=O(n)"
   ]
  },
  {
   "cell_type": "markdown",
   "id": "fa48ee9a-0b4f-4b59-9d1f-47286bf5ccbd",
   "metadata": {},
   "source": [
    "### Binary Search"
   ]
  },
  {
   "cell_type": "markdown",
   "id": "8813c2a7-bcad-488e-9f02-525c70f5d556",
   "metadata": {},
   "source": [
    "### for sorted array"
   ]
  },
  {
   "cell_type": "code",
   "execution_count": 86,
   "id": "017005b3-ed92-4c5d-8e3b-4be90d6b2df6",
   "metadata": {},
   "outputs": [
    {
     "name": "stdout",
     "output_type": "stream",
     "text": [
      "Element present at index 0\n"
     ]
    }
   ],
   "source": [
    "def BinarySearch(arr,target):\n",
    "    starting=0\n",
    "    ending=len(arr)-1\n",
    "    mid=int((starting+ending)/2)\n",
    "    while starting <=ending :\n",
    "        if arr[mid]==target:\n",
    "            return mid\n",
    "        elif arr[mid]>target:\n",
    "            ending=mid-1\n",
    "        else:\n",
    "            starting=mid+1\n",
    "        mid=int(starting+(ending-starting)/2)\n",
    "\n",
    "    return -1\n",
    "res=BinarySearch([1,3,5,7,9,44,55,66,88,99],1)\n",
    "if res==-1:\n",
    "    print(\"Element Not found\")\n",
    "else :\n",
    "    print(\"Element present at index\",res)"
   ]
  },
  {
   "cell_type": "markdown",
   "id": "9d7a8aa9-daa7-48bc-97f2-c4264bca6623",
   "metadata": {},
   "source": [
    "## Time Complexity is O(nlogn)"
   ]
  },
  {
   "cell_type": "markdown",
   "id": "c3968d81-9b6c-4ce8-9c7e-33a44a94ed33",
   "metadata": {},
   "source": [
    "## In duplicates lower and upper bound"
   ]
  },
  {
   "cell_type": "code",
   "execution_count": 142,
   "id": "02379e43-1d00-4918-ab30-a25e918c765f",
   "metadata": {},
   "outputs": [
    {
     "name": "stdout",
     "output_type": "stream",
     "text": [
      "1\n"
     ]
    }
   ],
   "source": [
    "def lowerBound(arr,target):\n",
    "    startingIndex=0\n",
    "    endingIndex=len(arr)-1\n",
    "    temp=None\n",
    "    while(startingIndex<=endingIndex):\n",
    "        mid=(endingIndex+startingIndex)//2\n",
    "        if arr[mid]==target:\n",
    "            temp=mid\n",
    "            endingIndex=mid-1\n",
    "        elif arr[mid]>target:\n",
    "            endingIndex=mid-1\n",
    "        else:\n",
    "            startingIndex=mid+1\n",
    "    return temp\n",
    "res=lowerBound([1,2,2,2,2,2,2,2,3,3,3,4,5,5],2)\n",
    "print(res)\n",
    "        "
   ]
  },
  {
   "cell_type": "code",
   "execution_count": 140,
   "id": "256844db-66dc-421b-af3e-ed0058741bd4",
   "metadata": {},
   "outputs": [
    {
     "name": "stdout",
     "output_type": "stream",
     "text": [
      "7\n"
     ]
    }
   ],
   "source": [
    "def upperBound(arr,target):\n",
    "    startingIndex=0\n",
    "    endingIndex=len(arr)-1\n",
    "    temp=None\n",
    "    while(startingIndex<=endingIndex):\n",
    "        mid=(endingIndex+startingIndex)//2\n",
    "        if arr[mid]==target:\n",
    "            temp=mid\n",
    "            startingIndex=mid+1\n",
    "        elif arr[mid]>target:\n",
    "            endingIndex=mid-1\n",
    "        else:\n",
    "            startingIndex=mid+1\n",
    "    return temp\n",
    "res=upperBound([1,2,2,2,2,2,2,2,3,3,3,4,5,5],2)\n",
    "print(res)\n",
    "        "
   ]
  },
  {
   "cell_type": "code",
   "execution_count": null,
   "id": "d0336632-197f-4b44-a1da-eb8dc8dc35a0",
   "metadata": {},
   "outputs": [],
   "source": []
  }
 ],
 "metadata": {
  "kernelspec": {
   "display_name": "Python 3 (ipykernel)",
   "language": "python",
   "name": "python3"
  },
  "language_info": {
   "codemirror_mode": {
    "name": "ipython",
    "version": 3
   },
   "file_extension": ".py",
   "mimetype": "text/x-python",
   "name": "python",
   "nbconvert_exporter": "python",
   "pygments_lexer": "ipython3",
   "version": "3.11.7"
  }
 },
 "nbformat": 4,
 "nbformat_minor": 5
}
