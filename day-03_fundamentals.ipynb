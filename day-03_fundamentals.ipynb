{
 "cells": [
  {
   "cell_type": "markdown",
   "id": "6c744395-2698-408a-87cf-8e6c29b85e2b",
   "metadata": {},
   "source": [
    "# Fundamentals Continued..."
   ]
  },
  {
   "cell_type": "markdown",
   "id": "cf6f7b61-f49e-4f13-a637-f4ad7bd15c2b",
   "metadata": {},
   "source": [
    "## Break And Continue Statements"
   ]
  },
  {
   "cell_type": "code",
   "execution_count": null,
   "id": "b5fce9be-f36f-4aa7-b232-995a48980ed0",
   "metadata": {},
   "outputs": [],
   "source": [
    "# break to terminate a loop , it only breaks the first outerloop where it is present"
   ]
  },
  {
   "cell_type": "code",
   "execution_count": null,
   "id": "d9023e3c-8621-494a-bdfa-4e8cf3d2850b",
   "metadata": {},
   "outputs": [],
   "source": [
    "i=0\n",
    "while i<=100:\n",
    "    print(i,end='')\n",
    "    i=i+1\n",
    "    if i==3:\n",
    "        break"
   ]
  },
  {
   "cell_type": "markdown",
   "id": "f17a8bab-ce3d-40df-9098-c312050db7cd",
   "metadata": {},
   "source": [
    "## Random Number Generator"
   ]
  },
  {
   "cell_type": "code",
   "execution_count": null,
   "id": "c04b472e-f470-4d1c-8923-ff76cf62c303",
   "metadata": {},
   "outputs": [],
   "source": [
    "import random\n",
    "while True:\n",
    "    randomNumber=random.randint(1,100)\n",
    "    print(randomNumber)\n",
    "    if randomNumber%2==0:\n",
    "        break"
   ]
  },
  {
   "cell_type": "markdown",
   "id": "5ed7d508-8585-4838-96e7-80bd1f70ed0b",
   "metadata": {},
   "source": [
    "### Continue"
   ]
  },
  {
   "cell_type": "code",
   "execution_count": null,
   "id": "90c0ed4e-3261-4685-86db-f7d5fdc23c8f",
   "metadata": {},
   "outputs": [],
   "source": [
    "# skips an iteration"
   ]
  },
  {
   "cell_type": "code",
   "execution_count": null,
   "id": "9dafa198-2069-4105-8cbe-18cb7d197246",
   "metadata": {},
   "outputs": [],
   "source": [
    "for i in range(1,100):\n",
    "    if i%3==0:\n",
    "        continue\n",
    "    print(i,end=\" \")"
   ]
  },
  {
   "cell_type": "markdown",
   "id": "9d713e7b-8e2d-46fc-99e3-2bc74d250a90",
   "metadata": {},
   "source": [
    "## Check Prime"
   ]
  },
  {
   "cell_type": "code",
   "execution_count": 13,
   "id": "a721d233-4989-4a08-b1ae-739d0541acdd",
   "metadata": {},
   "outputs": [
    {
     "name": "stdin",
     "output_type": "stream",
     "text": [
      "Enter your number- -10\n"
     ]
    },
    {
     "name": "stdout",
     "output_type": "stream",
     "text": [
      "Invalid Input\n"
     ]
    }
   ],
   "source": [
    "number=int(input(\"Enter your number-\"))\n",
    "if number<=0:\n",
    "    print(\"Invalid Input\")\n",
    "elif number==1:\n",
    "    print(number,\" is composite\")\n",
    "else:\n",
    "    if number==2:\n",
    "        print(\"Prime\")\n",
    "    else:\n",
    "        for i in range(2,number+1):\n",
    "            if i!=number and number%i==0:\n",
    "                # not prime \n",
    "                print(\"Not a prime\")\n",
    "                break\n",
    "        if i==number:\n",
    "            print(\"Prime Number\")\n",
    "                \n",
    "        \n",
    "        \n",
    "        "
   ]
  },
  {
   "cell_type": "markdown",
   "id": "b894b100-7739-405d-b02f-23d89ebef513",
   "metadata": {},
   "source": [
    "## Another Approach to Check Prime"
   ]
  },
  {
   "cell_type": "code",
   "execution_count": 32,
   "id": "7bd4cd61-f267-483a-a475-424b8d3ca0af",
   "metadata": {},
   "outputs": [
    {
     "name": "stdin",
     "output_type": "stream",
     "text": [
      "Enter your number- 2\n"
     ]
    },
    {
     "name": "stdout",
     "output_type": "stream",
     "text": [
      "Prime\n"
     ]
    }
   ],
   "source": [
    "number=int(input(\"Enter your number-\"))\n",
    "isPrime=True # assumed the number is prime\n",
    "for i in range(2,number):\n",
    "    if number%i==0:\n",
    "        isPrime=False # updating that it is not a prime number \n",
    "        print(\"Not a Prime\")\n",
    "        break\n",
    "if isPrime:\n",
    "    print(\"Prime\")"
   ]
  },
  {
   "cell_type": "markdown",
   "id": "962baa1b-5bdd-4733-891f-73aa51859ce3",
   "metadata": {},
   "source": [
    "## Swap Numbers"
   ]
  },
  {
   "cell_type": "markdown",
   "id": "2853c980-bdb9-45f9-abb7-fe3e099b42db",
   "metadata": {},
   "source": [
    "### using a third variable"
   ]
  },
  {
   "cell_type": "code",
   "execution_count": 37,
   "id": "979283dc-3edc-4cf9-b907-777dc7e36346",
   "metadata": {},
   "outputs": [
    {
     "name": "stdin",
     "output_type": "stream",
     "text": [
      "Enter your number- 100\n",
      "Enter your number- 369\n"
     ]
    },
    {
     "name": "stdout",
     "output_type": "stream",
     "text": [
      "Numberone- 369\n",
      "NumberTwo- 100\n"
     ]
    }
   ],
   "source": [
    "numberOne=int(input(\"Enter your number-\"))\n",
    "numberTwo=int(input(\"Enter your number-\"))\n",
    "temp=numberOne\n",
    "numberOne=numberTwo\n",
    "numberTwo=temp\n",
    "print(\"Numberone-\",numberOne)\n",
    "print(\"NumberTwo-\",numberTwo)"
   ]
  },
  {
   "cell_type": "markdown",
   "id": "d9beede5-260f-4320-bf3c-8a56c2e98f5f",
   "metadata": {},
   "source": [
    "### Using XOR"
   ]
  },
  {
   "cell_type": "code",
   "execution_count": 44,
   "id": "34aa36ad-df85-4608-940b-fbe28251dea1",
   "metadata": {},
   "outputs": [
    {
     "name": "stdin",
     "output_type": "stream",
     "text": [
      "Enter your number- 20\n",
      "Enter your number- 69\n"
     ]
    },
    {
     "name": "stdout",
     "output_type": "stream",
     "text": [
      "NumberOne= 69\n",
      "NumberTwo= 20\n"
     ]
    }
   ],
   "source": [
    "numberOne=int(input(\"Enter your number-\"))\n",
    "numberTwo=int(input(\"Enter your number-\"))\n",
    "numberOne=numberOne^numberTwo\n",
    "numberTwo=numberOne^numberTwo\n",
    "numberOne=numberOne^numberTwo\n",
    "print(\"NumberOne=\",numberOne)\n",
    "print(\"NumberTwo=\",numberTwo)"
   ]
  },
  {
   "cell_type": "markdown",
   "id": "098943a2-7c0f-4ebb-9957-4637b516740c",
   "metadata": {},
   "source": [
    "## Python Method"
   ]
  },
  {
   "cell_type": "code",
   "execution_count": 50,
   "id": "8b03750d-d0b5-489a-bf69-9ecb0286ccda",
   "metadata": {},
   "outputs": [
    {
     "name": "stdin",
     "output_type": "stream",
     "text": [
      "Enter your number- 2\n",
      "Enter your number- 3\n"
     ]
    },
    {
     "name": "stdout",
     "output_type": "stream",
     "text": [
      "3 2\n"
     ]
    }
   ],
   "source": [
    "a=int(input(\"Enter your number-\"))\n",
    "b=int(input(\"Enter your number-\"))\n",
    "a,b=b,a\n",
    "print(a,b)"
   ]
  },
  {
   "cell_type": "code",
   "execution_count": 53,
   "id": "ac03ad15-79ee-405e-a3a0-2b6f32b39b50",
   "metadata": {},
   "outputs": [],
   "source": [
    "# Python automatically handles garbage collection"
   ]
  },
  {
   "cell_type": "markdown",
   "id": "9439bade-737d-48b2-ac99-6efe7c9344d9",
   "metadata": {},
   "source": [
    "### Note"
   ]
  },
  {
   "cell_type": "markdown",
   "id": "142f6352-5f87-4441-b94b-1b72610e4214",
   "metadata": {},
   "source": [
    "### In python variables don't store the value they are just binded to them these binding can be changed at any time"
   ]
  },
  {
   "cell_type": "code",
   "execution_count": 60,
   "id": "5a04bda8-e8cb-4b7f-8566-b0b0b7625061",
   "metadata": {},
   "outputs": [
    {
     "name": "stdout",
     "output_type": "stream",
     "text": [
      "140709306943368\n"
     ]
    }
   ],
   "source": [
    "a=36\n",
    "print(id(a))"
   ]
  },
  {
   "cell_type": "markdown",
   "id": "039d16ba-e7cb-4646-a2d2-e8c8c218b3e7",
   "metadata": {},
   "source": [
    "# Lists In Python"
   ]
  },
  {
   "cell_type": "code",
   "execution_count": 63,
   "id": "a4a25263-b1aa-4b85-8158-436b23d4f5ff",
   "metadata": {},
   "outputs": [
    {
     "data": {
      "text/plain": [
       "'\\nLists are used to store multiple items in a single variable\\nLists are created using square brackets\\nList items are ordered, changeable, and allow duplicate values.\\nList items are indexed, the first item has index [0], the second item has index [1] etc.\\nThe list is changeable, meaning that we can change, add, and remove items in a list after it has been created.\\nYou can also use the list constructor - list() to create lists.\\n'"
      ]
     },
     "execution_count": 63,
     "metadata": {},
     "output_type": "execute_result"
    }
   ],
   "source": [
    "\"\"\"\n",
    "Lists are used to store multiple items in a single variable\n",
    "Lists are created using square brackets\n",
    "List items are ordered, changeable, and allow duplicate values.\n",
    "List items are indexed, the first item has index [0], the second item has index [1] etc.\n",
    "The list is changeable, meaning that we can change, add, and remove items in a list after it has been created.\n",
    "You can also use the list constructor - list() to create lists.\n",
    "\"\"\""
   ]
  },
  {
   "cell_type": "code",
   "execution_count": 65,
   "id": "d78e1a9d-8134-41f3-8dd7-a8ee7ea62ecd",
   "metadata": {},
   "outputs": [
    {
     "name": "stdout",
     "output_type": "stream",
     "text": [
      "<class 'list'>\n"
     ]
    }
   ],
   "source": [
    "a=[1,2,3,4,5]\n",
    "print(type(a))"
   ]
  },
  {
   "cell_type": "code",
   "execution_count": 67,
   "id": "71cfd15a-d460-4b20-9149-77c92bcd2ec3",
   "metadata": {},
   "outputs": [],
   "source": [
    "b=[1,2,3,[1,2],5,6]"
   ]
  },
  {
   "cell_type": "code",
   "execution_count": 69,
   "id": "696e4789-57aa-4b91-9838-e7b3f0fa7e47",
   "metadata": {},
   "outputs": [
    {
     "name": "stdout",
     "output_type": "stream",
     "text": [
      "<class 'list'>\n"
     ]
    }
   ],
   "source": [
    "print(type(b))"
   ]
  },
  {
   "cell_type": "markdown",
   "id": "7622afe2-f070-47bd-9bb5-9870085d18a7",
   "metadata": {},
   "source": [
    "## array is homogeneous whereas list is heterogenous"
   ]
  },
  {
   "cell_type": "code",
   "execution_count": 74,
   "id": "e015f2c4-0559-467b-a94d-c73454570b83",
   "metadata": {},
   "outputs": [],
   "source": [
    "llll=[1,True,\"name\"]"
   ]
  },
  {
   "cell_type": "code",
   "execution_count": 102,
   "id": "fcbccb2c-0e29-4a16-b8dc-372b6884224c",
   "metadata": {},
   "outputs": [
    {
     "name": "stdout",
     "output_type": "stream",
     "text": [
      "['Apple', 'Banana', 'Cherry', 'Mango', 'Orange']\n",
      "Mango\n",
      "['Apple', 'Banana', 'Mango', 'Avocado', 'Mango', 'Orange', 'Guava', 'Guava']\n",
      "Guava\n",
      "['Apple', 'Banana', 'Mango', 'Avocado', 'Mango', 'Orange', 'Guava']\n"
     ]
    }
   ],
   "source": [
    "FruitList=['Apple', 'Banana', 'Cherry', 'Mango', 'Orange']\n",
    "print(FruitList)   \n",
    "print(FruitList[3])\n",
    "FruitList[2]=\"Avocado\"\n",
    "FruitList.append(\"Guava\")\n",
    "FruitList.append(\"Guava\")\n",
    "FruitList.insert(2,\"Mango\")\n",
    "print(FruitList)\n",
    "print(FruitList.pop())\n",
    "print(FruitList)"
   ]
  },
  {
   "cell_type": "code",
   "execution_count": 104,
   "id": "717a9334-e4a2-4062-abbd-1940634d11cf",
   "metadata": {},
   "outputs": [],
   "source": [
    "newlist=[]\n",
    "newlist2=list()# both are empty lists"
   ]
  },
  {
   "cell_type": "code",
   "execution_count": 108,
   "id": "5170a099-a3ce-4030-90a8-ef9cdadf26b6",
   "metadata": {},
   "outputs": [
    {
     "data": {
      "text/plain": [
       "[2, 3, 4, 5, 6, 7]"
      ]
     },
     "execution_count": 108,
     "metadata": {},
     "output_type": "execute_result"
    }
   ],
   "source": [
    "list(range(2,8))"
   ]
  },
  {
   "cell_type": "markdown",
   "id": "17ee5eae-89bf-46be-885d-d40069e065f6",
   "metadata": {},
   "source": [
    "## Linear Search In list"
   ]
  },
  {
   "cell_type": "code",
   "execution_count": 119,
   "id": "1c9d1fb2-d25e-40d2-9f32-d02b6fa38519",
   "metadata": {},
   "outputs": [
    {
     "name": "stdout",
     "output_type": "stream",
     "text": [
      "Yes\n",
      "5\n"
     ]
    }
   ],
   "source": [
    "listA=[1,6,9,8,7,2,3,4,5]\n",
    "b=25\n",
    "if b in listA:\n",
    "    print(\"Yes\") # time complexity=O(n)\n",
    "c=2\n",
    "if c in listA:\n",
    "    print(\"Yes\")\n",
    "print(listA.index(c))"
   ]
  },
  {
   "cell_type": "code",
   "execution_count": 121,
   "id": "1a865dbe-62e9-429e-aeec-e10134922f58",
   "metadata": {},
   "outputs": [
    {
     "data": {
      "text/plain": [
       "['__add__',\n",
       " '__class__',\n",
       " '__class_getitem__',\n",
       " '__contains__',\n",
       " '__delattr__',\n",
       " '__delitem__',\n",
       " '__dir__',\n",
       " '__doc__',\n",
       " '__eq__',\n",
       " '__format__',\n",
       " '__ge__',\n",
       " '__getattribute__',\n",
       " '__getitem__',\n",
       " '__getstate__',\n",
       " '__gt__',\n",
       " '__hash__',\n",
       " '__iadd__',\n",
       " '__imul__',\n",
       " '__init__',\n",
       " '__init_subclass__',\n",
       " '__iter__',\n",
       " '__le__',\n",
       " '__len__',\n",
       " '__lt__',\n",
       " '__mul__',\n",
       " '__ne__',\n",
       " '__new__',\n",
       " '__reduce__',\n",
       " '__reduce_ex__',\n",
       " '__repr__',\n",
       " '__reversed__',\n",
       " '__rmul__',\n",
       " '__setattr__',\n",
       " '__setitem__',\n",
       " '__sizeof__',\n",
       " '__str__',\n",
       " '__subclasshook__',\n",
       " 'append',\n",
       " 'clear',\n",
       " 'copy',\n",
       " 'count',\n",
       " 'extend',\n",
       " 'index',\n",
       " 'insert',\n",
       " 'pop',\n",
       " 'remove',\n",
       " 'reverse',\n",
       " 'sort']"
      ]
     },
     "execution_count": 121,
     "metadata": {},
     "output_type": "execute_result"
    }
   ],
   "source": [
    "dir(listA) # GIVES LIST OF FUNCTIONS"
   ]
  },
  {
   "cell_type": "markdown",
   "id": "a275a8c6-b7f8-4843-a2dc-a4b9dba04269",
   "metadata": {},
   "source": [
    "### index without inbuilt function"
   ]
  },
  {
   "cell_type": "code",
   "execution_count": 125,
   "id": "a07fe399-3354-4878-be62-2db7a35ac563",
   "metadata": {},
   "outputs": [
    {
     "name": "stdout",
     "output_type": "stream",
     "text": [
      "6\n"
     ]
    }
   ],
   "source": [
    "listU=[1,6,8,9,4,7,3]\n",
    "target=3\n",
    "for i in range(len(listU)):\n",
    "    if listU[i]==target:\n",
    "        print(i)\n",
    "        break"
   ]
  },
  {
   "cell_type": "markdown",
   "id": "542c176b-fdb2-47cd-9dd9-4a420fccad06",
   "metadata": {},
   "source": [
    "## Reading List Input"
   ]
  },
  {
   "cell_type": "markdown",
   "id": "a046d090-c368-4784-8c22-f7f823cb556c",
   "metadata": {},
   "source": [
    "### Iterate over the split list and use 'int' function on each entry"
   ]
  },
  {
   "cell_type": "code",
   "execution_count": 131,
   "id": "16d37a84-c254-4626-8b7f-ecd972bbec5b",
   "metadata": {},
   "outputs": [
    {
     "name": "stdin",
     "output_type": "stream",
     "text": [
      " 2 6 9 8\n"
     ]
    },
    {
     "name": "stdout",
     "output_type": "stream",
     "text": [
      "2 6 9 8\n",
      "['2', '6', '9', '8']\n",
      "<class 'str'>\n",
      "[2, 6, 9, 8]\n",
      "<class 'int'>\n"
     ]
    }
   ],
   "source": [
    "a=input()\n",
    "print(a)\n",
    "b=a.split()# returns a list\n",
    "print(b)\n",
    "print(type(b[1]))\n",
    "for i in range(len(b)):\n",
    "    b[i]=int(b[i])\n",
    "print(b)\n",
    "print(type(b[1]))\n"
   ]
  },
  {
   "cell_type": "markdown",
   "id": "0f05223e-0745-4815-b877-6f4a822c96db",
   "metadata": {},
   "source": [
    "## Practice Problem Given a list of numbers, reverse it and print it.\n",
    "(Try this problem both with and without inbuilt method)\n",
    "Input:\n",
    "List = [4, 5, 8, 1, 9, 2]\n",
    "Output:\n",
    "291854"
   ]
  },
  {
   "cell_type": "code",
   "execution_count": 157,
   "id": "b6565b01-14f0-4204-a859-66cfc9131500",
   "metadata": {},
   "outputs": [
    {
     "name": "stdout",
     "output_type": "stream",
     "text": [
      "[4, 5, 8, 1, 9, 2]\n",
      "[2, 9, 1, 8, 5, 4]\n",
      "[4, 5, 8, 1, 9, 2]\n"
     ]
    }
   ],
   "source": [
    "myList= [4, 5, 8, 1, 9, 2]\n",
    "print(myList)\n",
    "myList.reverse()\n",
    "print(myList)\n",
    "\n",
    "i=0\n",
    "j=len(myList)-1\n",
    "while(i<=j):\n",
    "    myList[i],myList[j]=myList[j],myList[i]\n",
    "    i+=1\n",
    "    j-=1\n",
    "print(myList)"
   ]
  },
  {
   "cell_type": "code",
   "execution_count": null,
   "id": "f2aab0bc-21f3-43f4-996e-d4419a34258d",
   "metadata": {},
   "outputs": [],
   "source": []
  }
 ],
 "metadata": {
  "kernelspec": {
   "display_name": "Python 3 (ipykernel)",
   "language": "python",
   "name": "python3"
  },
  "language_info": {
   "codemirror_mode": {
    "name": "ipython",
    "version": 3
   },
   "file_extension": ".py",
   "mimetype": "text/x-python",
   "name": "python",
   "nbconvert_exporter": "python",
   "pygments_lexer": "ipython3",
   "version": "3.11.7"
  }
 },
 "nbformat": 4,
 "nbformat_minor": 5
}
